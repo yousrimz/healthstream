{
 "cells": [
  {
   "cell_type": "code",
   "execution_count": 17,
   "metadata": {},
   "outputs": [],
   "source": [
    "import os\n",
    "import json\n",
    "from pyspark.sql import SparkSession\n",
    "from pyspark.sql.types import *\n",
    "from pyspark.sql.functions import from_json, col"
   ]
  },
  {
   "cell_type": "code",
   "execution_count": 18,
   "metadata": {},
   "outputs": [],
   "source": [
    "# AWS key\n",
    "with open(r'C:\\\\Users\\\\yousr\\\\Documents\\\\healthstream\\\\utils\\\\config.json') as config_file:\n",
    "    config = json.load(config_file)\n",
    "    aws_access_key_id = config['aws_access_key_id']\n",
    "    aws_secret_access_key = config['aws_secret_access_key']"
   ]
  },
  {
   "cell_type": "code",
   "execution_count": 19,
   "metadata": {},
   "outputs": [],
   "source": [
    "# init spark session\n",
    "spark = SparkSession.builder \\\n",
    "    .config(\"spark.jars.packages\", \"org.apache.spark:spark-sql-kafka-0-10_2.12:3.1.0\") \\\n",
    "    .config('spark.hadoop.fs.s3a.aws.credentials.provider', 'org.apache.hadoop.fs.s3a.SimpleAWSCredentialsProvider') \\\n",
    "    .appName(\"HealthData\") \\\n",
    "    .config(\"spark.network.timeout\", \"5000s\") \\\n",
    "    .config(\"spark.hadoop.fs.s3a.access.key\", aws_access_key_id) \\\n",
    "    .config(\"spark.hadoop.fs.s3a.secret.key\", aws_secret_access_key) \\\n",
    "    .config(\"spark.hadoop.fs.s3a.impl\", \"org.apache.hadoop.fs.s3a.S3AFileSystem\") \\\n",
    "    .getOrCreate()"
   ]
  },
  {
   "cell_type": "code",
   "execution_count": 20,
   "metadata": {},
   "outputs": [],
   "source": [
    "# def data schema\n",
    "schema = StructType([\n",
    "    StructField(\"name\", StringType(), True),\n",
    "    StructField(\"age\", IntegerType(), True),\n",
    "    StructField(\"disease\", StringType(), True),\n",
    "    StructField(\"measurement_type\", StringType(), True),\n",
    "    StructField(\"measurement_value\", FloatType(), True),\n",
    "    StructField(\"timestamp\", StringType(), True)\n",
    "])"
   ]
  },
  {
   "cell_type": "code",
   "execution_count": 21,
   "metadata": {},
   "outputs": [
    {
     "name": "stdout",
     "output_type": "stream",
     "text": [
      "root\n",
      " |-- name: string (nullable = true)\n",
      " |-- age: integer (nullable = true)\n",
      " |-- disease: string (nullable = true)\n",
      " |-- measurement_type: string (nullable = true)\n",
      " |-- measurement_value: float (nullable = true)\n",
      " |-- timestamp: string (nullable = true)\n",
      "\n"
     ]
    }
   ],
   "source": [
    "# reading parquet files from S3 bucket\n",
    "data = spark.read.parquet(\"s3a://datareco/parquets/\")\n",
    "data = data.withColumn(\"value\", from_json(col(\"value\"), schema))\n",
    "data = data.select(\"value.*\")\n",
    "data.printSchema()"
   ]
  },
  {
   "cell_type": "code",
   "execution_count": 22,
   "metadata": {},
   "outputs": [
    {
     "name": "stdout",
     "output_type": "stream",
     "text": [
      "+-------------------+---+------------+----------------+-----------------+-------------------+\n",
      "|               name|age|     disease|measurement_type|measurement_value|          timestamp|\n",
      "+-------------------+---+------------+----------------+-----------------+-------------------+\n",
      "|Dr. Rebekah Brennan| 80|Hypertension|  Blood Pressure|        123.79914|2024-03-07 12:05:57|\n",
      "|   Elizabeth Fuller| 66|Hypertension|     Temperature|       111.713684|2024-03-07 12:00:24|\n",
      "|       David Robles| 47|  Depression|  Blood Pressure|        166.61244|2024-03-07 12:15:27|\n",
      "|      Allison Smith| 20|  Depression|  Blood Pressure|         52.54117|2024-03-07 12:14:25|\n",
      "|     Jennifer Owens| 58|  Depression|         Glucose|         96.77128|2024-03-07 12:11:59|\n",
      "|   Christopher Cole| 42|Hypertension|         Glucose|       106.533005|2024-03-07 12:16:25|\n",
      "|        James Smith| 21|  Depression|     Cholesterol|        173.39534|2024-03-07 12:08:52|\n",
      "|    Megan Alexander| 74|    Diabetes|  Blood Pressure|         187.5228|2024-03-07 12:03:26|\n",
      "|      Frank Esparza| 79|   Arthritis|     Temperature|        127.71841|2024-03-07 11:55:55|\n",
      "|          Jaime Day| 50|Hypertension|     Cholesterol|       101.251755|2024-03-07 12:10:26|\n",
      "+-------------------+---+------------+----------------+-----------------+-------------------+\n",
      "only showing top 10 rows\n",
      "\n"
     ]
    }
   ],
   "source": [
    "data.show(10)"
   ]
  },
  {
   "cell_type": "code",
   "execution_count": 23,
   "metadata": {},
   "outputs": [
    {
     "name": "stdout",
     "output_type": "stream",
     "text": [
      "number of patients with diabetes: 35\n"
     ]
    }
   ],
   "source": [
    "# filtering data for patients with diabetes\n",
    "diabetes_data = data.filter(data.disease == \"Diabetes\")\n",
    "print(\"number of patients with diabetes:\", diabetes_data.count())"
   ]
  },
  {
   "cell_type": "code",
   "execution_count": 24,
   "metadata": {},
   "outputs": [
    {
     "name": "stdout",
     "output_type": "stream",
     "text": [
      "average measurement values for patients with diabetes: 120.6552855355399\n"
     ]
    }
   ],
   "source": [
    "# calculation avg measurement values for patients with diabetes\n",
    "avg_measurement = diabetes_data.select(\"measurement_value\").groupBy().avg().collect()[0][0]\n",
    "print(\"average measurement values for patients with diabetes:\", avg_measurement)"
   ]
  },
  {
   "cell_type": "code",
   "execution_count": 25,
   "metadata": {},
   "outputs": [],
   "source": [
    "# stop spark session\n",
    "spark.stop()"
   ]
  }
 ],
 "metadata": {
  "kernelspec": {
   "display_name": "Python 3",
   "language": "python",
   "name": "python3"
  },
  "language_info": {
   "codemirror_mode": {
    "name": "ipython",
    "version": 3
   },
   "file_extension": ".py",
   "mimetype": "text/x-python",
   "name": "python",
   "nbconvert_exporter": "python",
   "pygments_lexer": "ipython3",
   "version": "3.11.7"
  }
 },
 "nbformat": 4,
 "nbformat_minor": 2
}
